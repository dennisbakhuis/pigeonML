{
 "cells": [
  {
   "cell_type": "code",
   "execution_count": 1,
   "metadata": {},
   "outputs": [],
   "source": [
    "from pigeonXT import annotate"
   ]
  },
  {
   "cell_type": "code",
   "execution_count": null,
   "metadata": {},
   "outputs": [],
   "source": []
  },
  {
   "cell_type": "code",
   "execution_count": null,
   "metadata": {},
   "outputs": [],
   "source": []
  },
  {
   "cell_type": "markdown",
   "metadata": {},
   "source": [
    "## Multi-label Classification"
   ]
  },
  {
   "cell_type": "code",
   "execution_count": null,
   "metadata": {},
   "outputs": [],
   "source": [
    "df = pd.DataFrame([\n",
    "    {'text': 'Spicy Chinese Eggplant with Szechuan Sauce with chilies and peanuts– serve or black rice or rice noodles for a tasty, easy vegan dinner!'},\n",
    "    {'text': 'Spicy Chinese Eggplant with Szechuan Sauce with chilies and peanuts– serve or black rice or rice noodles for a tasty, easy vegan dinner!'},\n",
    "    {'text': 'Spicy Chinese Eggplant with Szechuan Sauce with chilies and peanuts– serve or black rice or rice noodles for a tasty, easy vegan dinner!'},    \n",
    "])"
   ]
  },
  {
   "cell_type": "code",
   "execution_count": null,
   "metadata": {},
   "outputs": [],
   "source": [
    "def setLabels(labels, numClasses):\n",
    "    row = np.zeros([numClasses], dtype=np.uint8)\n",
    "    row[labels] = 1\n",
    "    return row\n",
    "\n",
    "def labelPortion(inputFile, \n",
    "                 labels = ['yes', 'no'], \n",
    "                 outputFile='output.parquet', \n",
    "                 portionSize=50,\n",
    "                 textColumn='text',\n",
    "                 shortLabels=None):\n",
    "    if shortLabels == None:\n",
    "        shortLabels = labels\n",
    "    out = Path(outputFile)\n",
    "    if out.exists():\n",
    "        outdf = pd.read_parquet(out)\n",
    "        currentId = outdf.index.max() + 1\n",
    "    else:\n",
    "        currentId = 0\n",
    "    indf = pd.read_parquet(inputFile)\n",
    "    examplesInFile = len(indf)\n",
    "    indf = indf.loc[currentId:currentId + portionSize - 1]\n",
    "    print(f'{currentId + 1} - {currentId + portionSize} of {examplesInFile}')\n",
    "    sentences = indf[textColumn].tolist()\n",
    "    \n",
    "    for label in shortLabels:\n",
    "        indf[label] = None\n",
    "    \n",
    "    def updateRow(ix, selectedLabels):\n",
    "        labs = setLabels([labels.index(y) for y in selectedLabels], len(labels))\n",
    "        indf.loc[indf.index.min()+ix, shortLabels] = labs\n",
    "    \n",
    "    def finalProcessing(annotations):\n",
    "        if out.exists():\n",
    "            prevdata = pd.read_parquet(out)\n",
    "            outdata = pd.concat([prevdata, indf]).reset_index(drop=True)\n",
    "        else:\n",
    "            outdata = indf.copy()\n",
    "        outdata.to_parquet(out, index=False)\n",
    "    \n",
    "    annotated = annotate( sentences, \n",
    "                          options=labels, \n",
    "                          task_type='multilabel-classification',\n",
    "                          buttons_in_a_row=3,\n",
    "                          reset_buttons_after_click=True,\n",
    "                          include_skip=False,\n",
    "                          example_process_fn=updateRow,\n",
    "                          final_process_fn=finalProcessing)     \n",
    "    return indf\n"
   ]
  },
  {
   "cell_type": "code",
   "execution_count": null,
   "metadata": {},
   "outputs": [],
   "source": []
  },
  {
   "cell_type": "code",
   "execution_count": null,
   "metadata": {},
   "outputs": [],
   "source": []
  },
  {
   "cell_type": "code",
   "execution_count": null,
   "metadata": {},
   "outputs": [],
   "source": []
  },
  {
   "cell_type": "code",
   "execution_count": null,
   "metadata": {},
   "outputs": [],
   "source": []
  }
 ],
 "metadata": {
  "kernelspec": {
   "display_name": "Python 3",
   "language": "python",
   "name": "python3"
  },
  "language_info": {
   "codemirror_mode": {
    "name": "ipython",
    "version": 3
   },
   "file_extension": ".py",
   "mimetype": "text/x-python",
   "name": "python",
   "nbconvert_exporter": "python",
   "pygments_lexer": "ipython3",
   "version": "3.7.7"
  }
 },
 "nbformat": 4,
 "nbformat_minor": 4
}
